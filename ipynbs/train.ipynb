{
 "cells": [
  {
   "cell_type": "code",
   "execution_count": 47,
   "id": "2240dad9-3349-49be-9696-b9b3c0e1b3c7",
   "metadata": {
    "id": "2240dad9-3349-49be-9696-b9b3c0e1b3c7"
   },
   "outputs": [],
   "source": [
    "import numpy as np\n",
    "import pandas as pd\n",
    "import os\n",
    "from sklearn.model_selection import train_test_split\n",
    "from skimage.io import imread\n",
    "from keras.preprocessing.image import ImageDataGenerator\n",
    "from keras.layers import Input, Conv2D, Dropout, MaxPooling2D, Conv2DTranspose, concatenate\n",
    "from keras.models import Model\n",
    "from keras import backend as K\n",
    "from keras.losses import binary_crossentropy\n",
    "from tensorflow.keras.optimizers import Adam\n",
    "from keras.callbacks import ModelCheckpoint, LearningRateScheduler, EarlyStopping, ReduceLROnPlateau"
   ]
  },
  {
   "cell_type": "code",
   "execution_count": 48,
   "id": "HwEHTrDph-Ck",
   "metadata": {
    "id": "HwEHTrDph-Ck"
   },
   "outputs": [],
   "source": [
    "# Constants for data preparation and augmentation\n",
    "SAMPLES_PER_GROUP = 4000  # Number of samples per group for dataset balancing\n",
    "ALPHA = 0.8               # Alpha parameter for loss function\n",
    "GAMMA = 2                 # Gamma parameter for loss function\n",
    "VALID_IMG_COUNT = 600     # Number of images for validation\n",
    "IMG_SCALING = (3, 3)      # Downsampling factor for image preprocessing\n",
    "AUGMENT_BRIGHTNESS = False  # Flag to enable brightness augmentation (True/False)"
   ]
  },
  {
   "cell_type": "code",
   "execution_count": 44,
   "id": "YjlifRQcTJTa",
   "metadata": {
    "colab": {
     "base_uri": "https://localhost:8080/"
    },
    "id": "YjlifRQcTJTa",
    "outputId": "01efb965-8440-42b6-c354-2eaa33374cf7"
   },
   "outputs": [
    {
     "name": "stdout",
     "output_type": "stream",
     "text": [
      "Drive already mounted at /content/drive; to attempt to forcibly remount, call drive.mount(\"/content/drive\", force_remount=True).\n"
     ]
    }
   ],
   "source": [
    "# Mount Google Drive\n",
    "from google.colab import drive\n",
    "drive.mount('/content/drive')"
   ]
  },
  {
   "cell_type": "code",
   "execution_count": 45,
   "id": "JmwJchxyTRyo",
   "metadata": {
    "id": "JmwJchxyTRyo"
   },
   "outputs": [],
   "source": [
    "# Navigate to the dataset folder\n",
    "! cd /content/drive/My\\ Drive/DataSet"
   ]
  },
  {
   "cell_type": "code",
   "execution_count": 4,
   "id": "35QvVzpHTjRI",
   "metadata": {
    "colab": {
     "base_uri": "https://localhost:8080/",
     "height": 92
    },
    "id": "35QvVzpHTjRI",
    "outputId": "fc8bdab4-1697-4f3a-8611-64efd18db694"
   },
   "outputs": [
    {
     "data": {
      "text/html": [
       "\n",
       "     <input type=\"file\" id=\"files-17a335c2-f25a-43af-a497-01c01c14ae6f\" name=\"files[]\" multiple disabled\n",
       "        style=\"border:none\" />\n",
       "     <output id=\"result-17a335c2-f25a-43af-a497-01c01c14ae6f\">\n",
       "      Upload widget is only available when the cell has been executed in the\n",
       "      current browser session. Please rerun this cell to enable.\n",
       "      </output>\n",
       "      <script>// Copyright 2017 Google LLC\n",
       "//\n",
       "// Licensed under the Apache License, Version 2.0 (the \"License\");\n",
       "// you may not use this file except in compliance with the License.\n",
       "// You may obtain a copy of the License at\n",
       "//\n",
       "//      http://www.apache.org/licenses/LICENSE-2.0\n",
       "//\n",
       "// Unless required by applicable law or agreed to in writing, software\n",
       "// distributed under the License is distributed on an \"AS IS\" BASIS,\n",
       "// WITHOUT WARRANTIES OR CONDITIONS OF ANY KIND, either express or implied.\n",
       "// See the License for the specific language governing permissions and\n",
       "// limitations under the License.\n",
       "\n",
       "/**\n",
       " * @fileoverview Helpers for google.colab Python module.\n",
       " */\n",
       "(function(scope) {\n",
       "function span(text, styleAttributes = {}) {\n",
       "  const element = document.createElement('span');\n",
       "  element.textContent = text;\n",
       "  for (const key of Object.keys(styleAttributes)) {\n",
       "    element.style[key] = styleAttributes[key];\n",
       "  }\n",
       "  return element;\n",
       "}\n",
       "\n",
       "// Max number of bytes which will be uploaded at a time.\n",
       "const MAX_PAYLOAD_SIZE = 100 * 1024;\n",
       "\n",
       "function _uploadFiles(inputId, outputId) {\n",
       "  const steps = uploadFilesStep(inputId, outputId);\n",
       "  const outputElement = document.getElementById(outputId);\n",
       "  // Cache steps on the outputElement to make it available for the next call\n",
       "  // to uploadFilesContinue from Python.\n",
       "  outputElement.steps = steps;\n",
       "\n",
       "  return _uploadFilesContinue(outputId);\n",
       "}\n",
       "\n",
       "// This is roughly an async generator (not supported in the browser yet),\n",
       "// where there are multiple asynchronous steps and the Python side is going\n",
       "// to poll for completion of each step.\n",
       "// This uses a Promise to block the python side on completion of each step,\n",
       "// then passes the result of the previous step as the input to the next step.\n",
       "function _uploadFilesContinue(outputId) {\n",
       "  const outputElement = document.getElementById(outputId);\n",
       "  const steps = outputElement.steps;\n",
       "\n",
       "  const next = steps.next(outputElement.lastPromiseValue);\n",
       "  return Promise.resolve(next.value.promise).then((value) => {\n",
       "    // Cache the last promise value to make it available to the next\n",
       "    // step of the generator.\n",
       "    outputElement.lastPromiseValue = value;\n",
       "    return next.value.response;\n",
       "  });\n",
       "}\n",
       "\n",
       "/**\n",
       " * Generator function which is called between each async step of the upload\n",
       " * process.\n",
       " * @param {string} inputId Element ID of the input file picker element.\n",
       " * @param {string} outputId Element ID of the output display.\n",
       " * @return {!Iterable<!Object>} Iterable of next steps.\n",
       " */\n",
       "function* uploadFilesStep(inputId, outputId) {\n",
       "  const inputElement = document.getElementById(inputId);\n",
       "  inputElement.disabled = false;\n",
       "\n",
       "  const outputElement = document.getElementById(outputId);\n",
       "  outputElement.innerHTML = '';\n",
       "\n",
       "  const pickedPromise = new Promise((resolve) => {\n",
       "    inputElement.addEventListener('change', (e) => {\n",
       "      resolve(e.target.files);\n",
       "    });\n",
       "  });\n",
       "\n",
       "  const cancel = document.createElement('button');\n",
       "  inputElement.parentElement.appendChild(cancel);\n",
       "  cancel.textContent = 'Cancel upload';\n",
       "  const cancelPromise = new Promise((resolve) => {\n",
       "    cancel.onclick = () => {\n",
       "      resolve(null);\n",
       "    };\n",
       "  });\n",
       "\n",
       "  // Wait for the user to pick the files.\n",
       "  const files = yield {\n",
       "    promise: Promise.race([pickedPromise, cancelPromise]),\n",
       "    response: {\n",
       "      action: 'starting',\n",
       "    }\n",
       "  };\n",
       "\n",
       "  cancel.remove();\n",
       "\n",
       "  // Disable the input element since further picks are not allowed.\n",
       "  inputElement.disabled = true;\n",
       "\n",
       "  if (!files) {\n",
       "    return {\n",
       "      response: {\n",
       "        action: 'complete',\n",
       "      }\n",
       "    };\n",
       "  }\n",
       "\n",
       "  for (const file of files) {\n",
       "    const li = document.createElement('li');\n",
       "    li.append(span(file.name, {fontWeight: 'bold'}));\n",
       "    li.append(span(\n",
       "        `(${file.type || 'n/a'}) - ${file.size} bytes, ` +\n",
       "        `last modified: ${\n",
       "            file.lastModifiedDate ? file.lastModifiedDate.toLocaleDateString() :\n",
       "                                    'n/a'} - `));\n",
       "    const percent = span('0% done');\n",
       "    li.appendChild(percent);\n",
       "\n",
       "    outputElement.appendChild(li);\n",
       "\n",
       "    const fileDataPromise = new Promise((resolve) => {\n",
       "      const reader = new FileReader();\n",
       "      reader.onload = (e) => {\n",
       "        resolve(e.target.result);\n",
       "      };\n",
       "      reader.readAsArrayBuffer(file);\n",
       "    });\n",
       "    // Wait for the data to be ready.\n",
       "    let fileData = yield {\n",
       "      promise: fileDataPromise,\n",
       "      response: {\n",
       "        action: 'continue',\n",
       "      }\n",
       "    };\n",
       "\n",
       "    // Use a chunked sending to avoid message size limits. See b/62115660.\n",
       "    let position = 0;\n",
       "    do {\n",
       "      const length = Math.min(fileData.byteLength - position, MAX_PAYLOAD_SIZE);\n",
       "      const chunk = new Uint8Array(fileData, position, length);\n",
       "      position += length;\n",
       "\n",
       "      const base64 = btoa(String.fromCharCode.apply(null, chunk));\n",
       "      yield {\n",
       "        response: {\n",
       "          action: 'append',\n",
       "          file: file.name,\n",
       "          data: base64,\n",
       "        },\n",
       "      };\n",
       "\n",
       "      let percentDone = fileData.byteLength === 0 ?\n",
       "          100 :\n",
       "          Math.round((position / fileData.byteLength) * 100);\n",
       "      percent.textContent = `${percentDone}% done`;\n",
       "\n",
       "    } while (position < fileData.byteLength);\n",
       "  }\n",
       "\n",
       "  // All done.\n",
       "  yield {\n",
       "    response: {\n",
       "      action: 'complete',\n",
       "    }\n",
       "  };\n",
       "}\n",
       "\n",
       "scope.google = scope.google || {};\n",
       "scope.google.colab = scope.google.colab || {};\n",
       "scope.google.colab._files = {\n",
       "  _uploadFiles,\n",
       "  _uploadFilesContinue,\n",
       "};\n",
       "})(self);\n",
       "</script> "
      ],
      "text/plain": [
       "<IPython.core.display.HTML object>"
      ]
     },
     "metadata": {},
     "output_type": "display_data"
    },
    {
     "name": "stdout",
     "output_type": "stream",
     "text": [
      "Saving kaggle.json to kaggle.json\n"
     ]
    },
    {
     "data": {
      "text/plain": [
       "{'kaggle.json': b'{\"username\":\"ivanyutaolexandr\",\"key\":\"72680c1c371f2ee2f7131ebdb8199b9e\"}'}"
      ]
     },
     "execution_count": 4,
     "metadata": {},
     "output_type": "execute_result"
    }
   ],
   "source": [
    "# Upload Kaggle API key\n",
    "from google.colab import files\n",
    "files.upload()"
   ]
  },
  {
   "cell_type": "code",
   "execution_count": 5,
   "id": "JB4urqPMTjZe",
   "metadata": {
    "id": "JB4urqPMTjZe"
   },
   "outputs": [],
   "source": [
    "# Set up Kaggle API credentials\n",
    "!mkdir -p ~/.kaggle\n",
    "!cp kaggle.json ~/.kaggle/\n",
    "!chmod 600 ~/.kaggle/kaggle.json\n",
    "!rm kaggle.json"
   ]
  },
  {
   "cell_type": "code",
   "execution_count": 6,
   "id": "l1RQH3NcTtNW",
   "metadata": {
    "colab": {
     "base_uri": "https://localhost:8080/"
    },
    "id": "l1RQH3NcTtNW",
    "outputId": "56e75a30-b417-4327-c0bd-756176d396d8"
   },
   "outputs": [
    {
     "name": "stdout",
     "output_type": "stream",
     "text": [
      "Downloading airbus-ship-detection.zip to /content\n",
      "100% 28.6G/28.6G [05:04<00:00, 166MB/s]\n",
      "100% 28.6G/28.6G [05:04<00:00, 101MB/s]\n"
     ]
    }
   ],
   "source": [
    "# Download dataset from Kaggle\n",
    "!kaggle competitions download -c airbus-ship-detection"
   ]
  },
  {
   "cell_type": "code",
   "execution_count": 7,
   "id": "Vt1bnV71T8sQ",
   "metadata": {
    "colab": {
     "base_uri": "https://localhost:8080/"
    },
    "id": "Vt1bnV71T8sQ",
    "outputId": "dfda4811-d17b-44e1-f867-c3537f32fc8b"
   },
   "outputs": [
    {
     "name": "stdout",
     "output_type": "stream",
     "text": [
      "Done\n"
     ]
    }
   ],
   "source": [
    "# Extract the dataset\n",
    "from zipfile import ZipFile\n",
    "file_name=\"/content/airbus-ship-detection.zip\"\n",
    "\n",
    "with ZipFile(file_name,'r') as zip_file_:\n",
    "  zip_file_.extractall()"
   ]
  },
  {
   "cell_type": "code",
   "execution_count": 49,
   "id": "c0e361ac-a104-4f78-a038-92942be54883",
   "metadata": {
    "id": "c0e361ac-a104-4f78-a038-92942be54883"
   },
   "outputs": [],
   "source": [
    "base_dir = '/content'\n",
    "\n",
    "train_dir = base_dir + '/train_v2/'\n",
    "test_dir = base_dir + '/test_v2/'"
   ]
  },
  {
   "cell_type": "code",
   "execution_count": 51,
   "id": "99d486a7-0e73-45da-a790-220dde5b0a6a",
   "metadata": {
    "id": "99d486a7-0e73-45da-a790-220dde5b0a6a"
   },
   "outputs": [],
   "source": [
    "train = os.listdir(train_dir)\n",
    "test = os.listdir(test_dir)"
   ]
  },
  {
   "cell_type": "code",
   "execution_count": 52,
   "id": "62b700dc-cc08-4a1b-b791-60b608a72ef0",
   "metadata": {
    "id": "62b700dc-cc08-4a1b-b791-60b608a72ef0"
   },
   "outputs": [],
   "source": [
    "# Data Preparation\n",
    "def prepare_data(data_path):\n",
    "    masks = pd.read_csv(os.path.join(data_path, 'train_ship_segmentations_v2.csv'))\n",
    "    not_empty = pd.notna(masks.EncodedPixels)\n",
    "\n",
    "    print(not_empty.sum(), 'masks in', masks[not_empty].ImageId.nunique(), 'images')\n",
    "    print((~not_empty).sum(), 'empty images in', masks.ImageId.nunique(), 'total images')\n",
    "\n",
    "    masks['ships'] = masks['EncodedPixels'].map(lambda c_row: 1 if isinstance(c_row, str) else 0)\n",
    "    unique_img_ids = masks.groupby('ImageId').agg({'ships': 'sum'}).reset_index()\n",
    "    unique_img_ids['has_ship'] = unique_img_ids['ships'].map(lambda x: 1.0 if x > 0 else 0.0)\n",
    "\n",
    "    masks.drop(['ships'], axis=1, inplace=True)\n",
    "\n",
    "    return masks, unique_img_ids"
   ]
  },
  {
   "cell_type": "code",
   "execution_count": 53,
   "id": "0119c889-00ce-433d-a440-fa45427d70b4",
   "metadata": {
    "colab": {
     "base_uri": "https://localhost:8080/"
    },
    "id": "0119c889-00ce-433d-a440-fa45427d70b4",
    "outputId": "e2c9c4fc-3e71-479d-f570-0b3e0d9ad027"
   },
   "outputs": [
    {
     "name": "stdout",
     "output_type": "stream",
     "text": [
      "81723 masks in 42556 images\n",
      "150000 empty images in 192556 total images\n"
     ]
    }
   ],
   "source": [
    "masks, unique_img_ids = prepare_data(base_dir)"
   ]
  },
  {
   "cell_type": "code",
   "execution_count": 54,
   "id": "1d307a97-7338-427a-91ab-9a961c725a7d",
   "metadata": {
    "id": "1d307a97-7338-427a-91ab-9a961c725a7d"
   },
   "outputs": [],
   "source": [
    "# Let's balance the dataset by randomly selecting SAMPLES_PER_GROUP elements\n",
    "# for each category (groups based on the number of ships) to avoid imbalance\n",
    "# between categories.\n",
    "\n",
    "balanced_train_df = unique_img_ids.groupby('ships').apply(lambda x: x.sample(SAMPLES_PER_GROUP) if len(x) > SAMPLES_PER_GROUP else x)"
   ]
  },
  {
   "cell_type": "code",
   "execution_count": 55,
   "id": "082b7a9d-3492-4857-aade-2a1c096ce84a",
   "metadata": {
    "id": "082b7a9d-3492-4857-aade-2a1c096ce84a"
   },
   "outputs": [],
   "source": [
    "# Function for decoding the RLE representation of a mask in an image.\n",
    "def decode_rle(encoded_mask, image_shape=(768, 768)):\n",
    "    components = encoded_mask.split()\n",
    "    start_indices, lengths = [np.asarray(x, dtype=int) for x in (components[0:][::2], components[1:][::2])]\n",
    "    start_indices -= 1\n",
    "    end_indices = start_indices + lengths\n",
    "    decoded_mask = np.zeros(image_shape[0] * image_shape[1], dtype=np.uint8)\n",
    "\n",
    "    for start, end in zip(start_indices, end_indices):\n",
    "        decoded_mask[start:end] = 1\n",
    "\n",
    "    return decoded_mask.reshape(image_shape).T"
   ]
  },
  {
   "cell_type": "code",
   "execution_count": 56,
   "id": "c39a6d21-2284-4d8f-958a-8a970824ce59",
   "metadata": {
    "id": "c39a6d21-2284-4d8f-958a-8a970824ce59"
   },
   "outputs": [],
   "source": [
    "# Function to combine individual ship masks into a single array\n",
    "def generate_single_mask(mask_list):\n",
    "    all_masks_array = np.zeros((768, 768), dtype=np.uint8)\n",
    "\n",
    "    for individual_mask in mask_list:\n",
    "        if isinstance(individual_mask, str):\n",
    "            all_masks_array |= decode_rle(individual_mask)\n",
    "\n",
    "    return all_masks_array"
   ]
  },
  {
   "cell_type": "code",
   "execution_count": 57,
   "id": "739c7af8-50fb-4fad-b4aa-d9ea8f11ff57",
   "metadata": {
    "id": "739c7af8-50fb-4fad-b4aa-d9ea8f11ff57"
   },
   "outputs": [],
   "source": [
    "# Downsampling in preprocessing\n",
    "def make_image_gen(in_df, batch_size = 48):\n",
    "    all_batches = list(in_df.groupby('ImageId'))\n",
    "    out_rgb = []\n",
    "    out_mask = []\n",
    "    batch_counter = 0\n",
    "    while True:\n",
    "        np.random.shuffle(all_batches)\n",
    "        for c_img_id, c_masks in all_batches:\n",
    "            rgb_path = os.path.join(train_dir, c_img_id)\n",
    "            c_img = imread(rgb_path)\n",
    "            c_mask = np.expand_dims(generate_single_mask(c_masks['EncodedPixels'].values), -1)\n",
    "\n",
    "            # Output image and mask shapes\n",
    "            #print(f\"Batch #{batch_counter}, Image shape: {c_img.shape}, Mask shape: {c_mask.shape}\")\n",
    "\n",
    "            if IMG_SCALING is not None:\n",
    "                c_img = c_img[::IMG_SCALING[0], ::IMG_SCALING[1]]\n",
    "                c_mask = c_mask[::IMG_SCALING[0], ::IMG_SCALING[1]]\n",
    "            out_rgb += [c_img]\n",
    "            out_mask += [c_mask]\n",
    "            if len(out_rgb)>=batch_size:\n",
    "                yield np.stack(out_rgb, 0)/255.0, np.stack(out_mask, 0).astype(np.float32)\n",
    "                out_rgb, out_mask=[], []"
   ]
  },
  {
   "cell_type": "code",
   "execution_count": 58,
   "id": "4a2bc45f-7781-41e6-bc03-9683875756ab",
   "metadata": {
    "colab": {
     "base_uri": "https://localhost:8080/"
    },
    "id": "4a2bc45f-7781-41e6-bc03-9683875756ab",
    "outputId": "ce400aaf-5582-49d9-faeb-4f6af7ef1601"
   },
   "outputs": [
    {
     "name": "stdout",
     "output_type": "stream",
     "text": [
      "44212 training masks\n",
      "11059 validation masks\n"
     ]
    }
   ],
   "source": [
    "# Split dataset into training and validation sets\n",
    "train_ids, valid_ids = train_test_split(balanced_train_df, test_size = 0.2, stratify = balanced_train_df['ships'])\n",
    "train_df = pd.merge(masks, train_ids)\n",
    "valid_df = pd.merge(masks, valid_ids)\n",
    "print(train_df.shape[0], 'training masks')\n",
    "print(valid_df.shape[0], 'validation masks')\n",
    "\n",
    "\n",
    "train_gen = make_image_gen(train_df)\n",
    "train_x, train_y = next(train_gen)\n",
    "valid_x, valid_y = next(make_image_gen(valid_df, VALID_IMG_COUNT))"
   ]
  },
  {
   "cell_type": "code",
   "execution_count": 59,
   "id": "94ce43f6-dd38-434c-94cf-01d577ba21f5",
   "metadata": {
    "id": "94ce43f6-dd38-434c-94cf-01d577ba21f5"
   },
   "outputs": [],
   "source": [
    "# A generator function for augmenting images and their corresponding masks.\n",
    "def create_aug_gen(in_gen, seed = None):\n",
    "    np.random.seed(seed if seed is not None else np.random.choice(range(9999)))\n",
    "    for in_x, in_y in in_gen:\n",
    "        seed = np.random.choice(range(1234))\n",
    "        # keep the seeds syncronized otherwise the augmentation to the images is different from the masks\n",
    "        g_x = image_gen.flow(255*in_x,\n",
    "                             batch_size = in_x.shape[0],\n",
    "                             seed = seed,\n",
    "                             shuffle=True)\n",
    "        g_y = label_gen.flow(in_y,\n",
    "                             batch_size = in_x.shape[0],\n",
    "                             seed = seed,\n",
    "                             shuffle=True)\n",
    "\n",
    "        yield next(g_x)/255.0, next(g_y)"
   ]
  },
  {
   "cell_type": "code",
   "execution_count": 60,
   "id": "6f7a54ee-ef37-482a-a6c2-743b2ca81973",
   "metadata": {
    "id": "6f7a54ee-ef37-482a-a6c2-743b2ca81973"
   },
   "outputs": [],
   "source": [
    "# Data Augmentation\n",
    "args = dict(featurewise_center = False,\n",
    "                  samplewise_center = False,\n",
    "                  rotation_range = 45,\n",
    "                  width_shift_range = 0.1,\n",
    "                  height_shift_range = 0.1,\n",
    "                  shear_range = 0.01,\n",
    "                  zoom_range = [0.9, 1.25],\n",
    "                  horizontal_flip = True,\n",
    "                  vertical_flip = True,\n",
    "                  fill_mode = 'reflect',\n",
    "                  data_format = 'channels_last')\n",
    "\n",
    "if AUGMENT_BRIGHTNESS:\n",
    "    args[' brightness_range'] = [0.5, 1.5]\n",
    "image_gen = ImageDataGenerator(**args)\n",
    "\n",
    "if AUGMENT_BRIGHTNESS:\n",
    "    args.pop('brightness_range')\n",
    "label_gen = ImageDataGenerator(**args)\n",
    "\n",
    "cur_gen = create_aug_gen(train_gen)\n",
    "t_x, t_y = next(cur_gen)\n",
    "\n",
    "import gc; gc.enable()\n",
    "gc.collect();"
   ]
  },
  {
   "cell_type": "code",
   "execution_count": 61,
   "id": "V-8TVkhRdbys",
   "metadata": {
    "id": "V-8TVkhRdbys"
   },
   "outputs": [],
   "source": [
    "# Creates a U-Net model for image semantic segmentation.\n",
    "def create_unet(filters=8, img_size=(256, 256, 3), dropout_rate=0.1, kernel_size=(3, 3), pool_size=(2, 2), strides=(2, 2)):\n",
    "    \"\"\"\n",
    "    Args:\n",
    "        filters (int, optional): The number of filters in the first layer, 8 by default.\n",
    "        img_size (tuple, optional): The input image size, (256, 256, 3) by default.\n",
    "        dropout_rate (float, optional): The dropout rate, 0.1 by default.\n",
    "        kernel_size (tuple, optional): The kernel size for convolutional layers, (3, 3) by default.\n",
    "        pool_size (tuple, optional): The pool size for max pooling layers, (2, 2) by default.\n",
    "        strides (tuple, optional): The strides for transpose convolutional layers, (2, 2) by default.\n",
    "\n",
    "    Returns:\n",
    "        keras.models.Model: The implemented U-Net model.\n",
    "    \"\"\"\n",
    "    inputs = Input(img_size)\n",
    "\n",
    "    # Contraction path\n",
    "    c1 = Conv2D(filters, kernel_size, activation='relu', kernel_initializer='he_normal', padding='same')(inputs)\n",
    "    c1 = Dropout(dropout_rate)(c1)\n",
    "    c1 = Conv2D(filters, kernel_size, activation='relu', kernel_initializer='he_normal', padding='same')(c1)\n",
    "    p1 = MaxPooling2D(pool_size)(c1)\n",
    "\n",
    "    c2 = Conv2D(filters * 2, kernel_size, activation='relu', kernel_initializer='he_normal', padding='same')(p1)\n",
    "    c2 = Dropout(dropout_rate)(c2)\n",
    "    c2 = Conv2D(filters * 2, kernel_size, activation='relu', kernel_initializer='he_normal', padding='same')(c2)\n",
    "    p2 = MaxPooling2D(pool_size)(c2)\n",
    "\n",
    "    c3 = Conv2D(filters * 4, kernel_size, activation='relu', kernel_initializer='he_normal', padding='same')(p2)\n",
    "    c3 = Dropout(dropout_rate)(c3)\n",
    "    c3 = Conv2D(filters * 4, kernel_size, activation='relu', kernel_initializer='he_normal', padding='same')(c3)\n",
    "    p3 = MaxPooling2D(pool_size)(c3)\n",
    "\n",
    "    c4 = Conv2D(filters * 8, kernel_size, activation='relu', kernel_initializer='he_normal', padding='same')(p3)\n",
    "    c4 = Dropout(dropout_rate)(c4)\n",
    "    c4 = Conv2D(filters * 8, kernel_size, activation='relu', kernel_initializer='he_normal', padding='same')(c4)\n",
    "    p4 = MaxPooling2D(pool_size)(c4)\n",
    "\n",
    "    # Bridge (1024)\n",
    "    c5 = Conv2D(filters * 16, kernel_size, activation='relu', kernel_initializer='he_normal', padding='same')(p4)\n",
    "    c5 = Dropout(dropout_rate)(c5)\n",
    "    c5 = Conv2D(filters * 16, kernel_size, activation='relu', kernel_initializer='he_normal', padding='same')(c5)\n",
    "\n",
    "    # Expansive path\n",
    "    u6 = Conv2DTranspose(filters * 8, pool_size, strides=strides, padding='same')(c5)\n",
    "    u6 = concatenate([u6, c4])\n",
    "    c6 = Conv2D(filters * 8, kernel_size, activation='relu', kernel_initializer='he_normal', padding='same')(u6)\n",
    "    c6 = Dropout(dropout_rate)(c6)\n",
    "    c6 = Conv2D(filters * 8, kernel_size, activation='relu', kernel_initializer='he_normal', padding='same')(c6)\n",
    "\n",
    "    u7 = Conv2DTranspose(filters * 4, pool_size, strides=strides, padding='same')(c6)\n",
    "    u7 = concatenate([u7, c3])\n",
    "    c7 = Conv2D(filters * 4, kernel_size, activation='relu', kernel_initializer='he_normal', padding='same')(u7)\n",
    "    c7 = Dropout(dropout_rate)(c7)\n",
    "    c7 = Conv2D(filters * 4, kernel_size, activation='relu', kernel_initializer='he_normal', padding='same')(c7)\n",
    "\n",
    "    u8 = Conv2DTranspose(filters * 2, pool_size, strides=strides, padding='same')(c7)\n",
    "    u8 = concatenate([u8, c2])\n",
    "    c8 = Conv2D(filters * 2, kernel_size, activation='relu', kernel_initializer='he_normal', padding='same')(u8)\n",
    "    c8 = Dropout(dropout_rate)(c8)\n",
    "    c8 = Conv2D(filters * 2, kernel_size, activation='relu', kernel_initializer='he_normal', padding='same')(c8)\n",
    "\n",
    "    u9 = Conv2DTranspose(filters, pool_size, strides=strides, padding='same')(c8)\n",
    "    u9 = concatenate([u9, c1])\n",
    "    c9 = Conv2D(filters, kernel_size, activation='relu', kernel_initializer='he_normal', padding='same')(u9)\n",
    "    c9 = Dropout(dropout_rate)(c9)\n",
    "    c9 = Conv2D(filters, kernel_size, activation='relu', kernel_initializer='he_normal', padding='same')(c9)\n",
    "\n",
    "    outputs = Conv2D(1, (1, 1), activation='sigmoid', padding='same')(c9)\n",
    "\n",
    "    model = Model(inputs=[inputs], outputs=[outputs], name='unet')\n",
    "    print(model.summary())\n",
    "\n",
    "    return model"
   ]
  },
  {
   "cell_type": "code",
   "execution_count": 62,
   "id": "e95d96ef-5fbb-4474-9d98-9542684f3ffb",
   "metadata": {
    "colab": {
     "base_uri": "https://localhost:8080/"
    },
    "id": "e95d96ef-5fbb-4474-9d98-9542684f3ffb",
    "outputId": "511d525b-ebdd-47b0-91e4-eacc18bf8417"
   },
   "outputs": [
    {
     "name": "stdout",
     "output_type": "stream",
     "text": [
      "Model: \"unet\"\n",
      "__________________________________________________________________________________________________\n",
      " Layer (type)                Output Shape                 Param #   Connected to                  \n",
      "==================================================================================================\n",
      " input_2 (InputLayer)        [(None, 256, 256, 3)]        0         []                            \n",
      "                                                                                                  \n",
      " conv2d_19 (Conv2D)          (None, 256, 256, 8)          224       ['input_2[0][0]']             \n",
      "                                                                                                  \n",
      " dropout_9 (Dropout)         (None, 256, 256, 8)          0         ['conv2d_19[0][0]']           \n",
      "                                                                                                  \n",
      " conv2d_20 (Conv2D)          (None, 256, 256, 8)          584       ['dropout_9[0][0]']           \n",
      "                                                                                                  \n",
      " max_pooling2d_4 (MaxPoolin  (None, 128, 128, 8)          0         ['conv2d_20[0][0]']           \n",
      " g2D)                                                                                             \n",
      "                                                                                                  \n",
      " conv2d_21 (Conv2D)          (None, 128, 128, 16)         1168      ['max_pooling2d_4[0][0]']     \n",
      "                                                                                                  \n",
      " dropout_10 (Dropout)        (None, 128, 128, 16)         0         ['conv2d_21[0][0]']           \n",
      "                                                                                                  \n",
      " conv2d_22 (Conv2D)          (None, 128, 128, 16)         2320      ['dropout_10[0][0]']          \n",
      "                                                                                                  \n",
      " max_pooling2d_5 (MaxPoolin  (None, 64, 64, 16)           0         ['conv2d_22[0][0]']           \n",
      " g2D)                                                                                             \n",
      "                                                                                                  \n",
      " conv2d_23 (Conv2D)          (None, 64, 64, 32)           4640      ['max_pooling2d_5[0][0]']     \n",
      "                                                                                                  \n",
      " dropout_11 (Dropout)        (None, 64, 64, 32)           0         ['conv2d_23[0][0]']           \n",
      "                                                                                                  \n",
      " conv2d_24 (Conv2D)          (None, 64, 64, 32)           9248      ['dropout_11[0][0]']          \n",
      "                                                                                                  \n",
      " max_pooling2d_6 (MaxPoolin  (None, 32, 32, 32)           0         ['conv2d_24[0][0]']           \n",
      " g2D)                                                                                             \n",
      "                                                                                                  \n",
      " conv2d_25 (Conv2D)          (None, 32, 32, 64)           18496     ['max_pooling2d_6[0][0]']     \n",
      "                                                                                                  \n",
      " dropout_12 (Dropout)        (None, 32, 32, 64)           0         ['conv2d_25[0][0]']           \n",
      "                                                                                                  \n",
      " conv2d_26 (Conv2D)          (None, 32, 32, 64)           36928     ['dropout_12[0][0]']          \n",
      "                                                                                                  \n",
      " max_pooling2d_7 (MaxPoolin  (None, 16, 16, 64)           0         ['conv2d_26[0][0]']           \n",
      " g2D)                                                                                             \n",
      "                                                                                                  \n",
      " conv2d_27 (Conv2D)          (None, 16, 16, 128)          73856     ['max_pooling2d_7[0][0]']     \n",
      "                                                                                                  \n",
      " dropout_13 (Dropout)        (None, 16, 16, 128)          0         ['conv2d_27[0][0]']           \n",
      "                                                                                                  \n",
      " conv2d_28 (Conv2D)          (None, 16, 16, 128)          147584    ['dropout_13[0][0]']          \n",
      "                                                                                                  \n",
      " conv2d_transpose_4 (Conv2D  (None, 32, 32, 64)           32832     ['conv2d_28[0][0]']           \n",
      " Transpose)                                                                                       \n",
      "                                                                                                  \n",
      " concatenate_4 (Concatenate  (None, 32, 32, 128)          0         ['conv2d_transpose_4[0][0]',  \n",
      " )                                                                   'conv2d_26[0][0]']           \n",
      "                                                                                                  \n",
      " conv2d_29 (Conv2D)          (None, 32, 32, 64)           73792     ['concatenate_4[0][0]']       \n",
      "                                                                                                  \n",
      " dropout_14 (Dropout)        (None, 32, 32, 64)           0         ['conv2d_29[0][0]']           \n",
      "                                                                                                  \n",
      " conv2d_30 (Conv2D)          (None, 32, 32, 64)           36928     ['dropout_14[0][0]']          \n",
      "                                                                                                  \n",
      " conv2d_transpose_5 (Conv2D  (None, 64, 64, 32)           8224      ['conv2d_30[0][0]']           \n",
      " Transpose)                                                                                       \n",
      "                                                                                                  \n",
      " concatenate_5 (Concatenate  (None, 64, 64, 64)           0         ['conv2d_transpose_5[0][0]',  \n",
      " )                                                                   'conv2d_24[0][0]']           \n",
      "                                                                                                  \n",
      " conv2d_31 (Conv2D)          (None, 64, 64, 32)           18464     ['concatenate_5[0][0]']       \n",
      "                                                                                                  \n",
      " dropout_15 (Dropout)        (None, 64, 64, 32)           0         ['conv2d_31[0][0]']           \n",
      "                                                                                                  \n",
      " conv2d_32 (Conv2D)          (None, 64, 64, 32)           9248      ['dropout_15[0][0]']          \n",
      "                                                                                                  \n",
      " conv2d_transpose_6 (Conv2D  (None, 128, 128, 16)         2064      ['conv2d_32[0][0]']           \n",
      " Transpose)                                                                                       \n",
      "                                                                                                  \n",
      " concatenate_6 (Concatenate  (None, 128, 128, 32)         0         ['conv2d_transpose_6[0][0]',  \n",
      " )                                                                   'conv2d_22[0][0]']           \n",
      "                                                                                                  \n",
      " conv2d_33 (Conv2D)          (None, 128, 128, 16)         4624      ['concatenate_6[0][0]']       \n",
      "                                                                                                  \n",
      " dropout_16 (Dropout)        (None, 128, 128, 16)         0         ['conv2d_33[0][0]']           \n",
      "                                                                                                  \n",
      " conv2d_34 (Conv2D)          (None, 128, 128, 16)         2320      ['dropout_16[0][0]']          \n",
      "                                                                                                  \n",
      " conv2d_transpose_7 (Conv2D  (None, 256, 256, 8)          520       ['conv2d_34[0][0]']           \n",
      " Transpose)                                                                                       \n",
      "                                                                                                  \n",
      " concatenate_7 (Concatenate  (None, 256, 256, 16)         0         ['conv2d_transpose_7[0][0]',  \n",
      " )                                                                   'conv2d_20[0][0]']           \n",
      "                                                                                                  \n",
      " conv2d_35 (Conv2D)          (None, 256, 256, 8)          1160      ['concatenate_7[0][0]']       \n",
      "                                                                                                  \n",
      " dropout_17 (Dropout)        (None, 256, 256, 8)          0         ['conv2d_35[0][0]']           \n",
      "                                                                                                  \n",
      " conv2d_36 (Conv2D)          (None, 256, 256, 8)          584       ['dropout_17[0][0]']          \n",
      "                                                                                                  \n",
      " conv2d_37 (Conv2D)          (None, 256, 256, 1)          9         ['conv2d_36[0][0]']           \n",
      "                                                                                                  \n",
      "==================================================================================================\n",
      "Total params: 485817 (1.85 MB)\n",
      "Trainable params: 485817 (1.85 MB)\n",
      "Non-trainable params: 0 (0.00 Byte)\n",
      "__________________________________________________________________________________________________\n",
      "None\n"
     ]
    }
   ],
   "source": [
    "model = create_unet()"
   ]
  },
  {
   "cell_type": "code",
   "execution_count": 63,
   "id": "e042b80d-aac6-4a3d-8e1d-76aa0246aa74",
   "metadata": {
    "colab": {
     "base_uri": "https://localhost:8080/"
    },
    "id": "e042b80d-aac6-4a3d-8e1d-76aa0246aa74",
    "outputId": "2bc080ca-f4b7-400c-b21a-06a61b4275f3"
   },
   "outputs": [
    {
     "name": "stderr",
     "output_type": "stream",
     "text": [
      "WARNING:tensorflow:`epsilon` argument is deprecated and will be removed, use `min_delta` instead.\n"
     ]
    }
   ],
   "source": [
    "# Callbacks setting\n",
    "weight_path=\"models/{}_weights.hdf5\".format('model')\n",
    "\n",
    "checkpoint = ModelCheckpoint(\n",
    "    weight_path,\n",
    "    monitor='val_dice_coef', \n",
    "    verbose=1,\n",
    "    save_best_only=True, \n",
    "    mode='max', \n",
    "    save_weights_only = True\n",
    ")\n",
    "\n",
    "early = EarlyStopping(\n",
    "    monitor=\"val_dice_coef\",\n",
    "    mode=\"max\",\n",
    "    patience=15\n",
    ")\n",
    "\n",
    "reduceLROnPlat = ReduceLROnPlateau(\n",
    "    monitor='val_dice_coef', \n",
    "    factor=0.5,\n",
    "    patience=3,\n",
    "    verbose=1, \n",
    "    mode='max', \n",
    "    epsilon=0.0001, \n",
    "    cooldown=2, \n",
    "    min_lr=1e-6\n",
    ")\n",
    "\n",
    "\n",
    "callbacks_list = [checkpoint, early, reduceLROnPlat]"
   ]
  },
  {
   "cell_type": "code",
   "execution_count": 64,
   "id": "_Ya-B9HbiAAD",
   "metadata": {
    "id": "_Ya-B9HbiAAD"
   },
   "outputs": [],
   "source": [
    "# Custom Loss Function\n",
    "def Loss(targets, inputs, alpha=ALPHA, gamma=GAMMA):\n",
    "    inputs = K.flatten(inputs)\n",
    "    targets = K.flatten(targets)\n",
    "\n",
    "    BCE = K.binary_crossentropy(targets, inputs)\n",
    "    BCE_EXP = K.exp(-BCE)\n",
    "    loss = K.mean(alpha * K.pow((1 - BCE_EXP), gamma) * BCE)\n",
    "\n",
    "    return loss"
   ]
  },
  {
   "cell_type": "code",
   "execution_count": 71,
   "id": "56I2npDfiADJ",
   "metadata": {
    "id": "56I2npDfiADJ"
   },
   "outputs": [],
   "source": [
    "# Dice Coefficient Metric\n",
    "def dice_coef(y_true, y_pred, smooth=1):\n",
    "    y_true_f = K.flatten(y_true)\n",
    "    y_pred_f = K.flatten(y_pred)\n",
    "    intersection = K.sum(y_true_f * y_pred_f)\n",
    "    return (2. * intersection + smooth) / (K.sum(y_true_f) + K.sum(y_pred_f) + smooth)"
   ]
  },
  {
   "cell_type": "code",
   "execution_count": 72,
   "id": "s6wjzwWBVwam",
   "metadata": {
    "colab": {
     "base_uri": "https://localhost:8080/"
    },
    "id": "s6wjzwWBVwam",
    "outputId": "1aed0d9f-5d5d-47bd-b95a-6b97fd0f4c7c"
   },
   "outputs": [
    {
     "name": "stdout",
     "output_type": "stream",
     "text": [
      "Epoch 1/15\n",
      "5/5 [==============================] - ETA: 0s - loss: 0.0213 - dice_coef: 0.0045 - binary_accuracy: 0.9935 \n",
      "Epoch 1: val_dice_coef did not improve from 0.00510\n",
      "5/5 [==============================] - 179s 38s/step - loss: 0.0213 - dice_coef: 0.0045 - binary_accuracy: 0.9935 - val_loss: 0.0170 - val_dice_coef: 0.0035 - val_binary_accuracy: 0.9952 - lr: 0.0010\n",
      "Epoch 2/15\n",
      "5/5 [==============================] - ETA: 0s - loss: 0.0195 - dice_coef: 0.0048 - binary_accuracy: 0.9936 \n",
      "Epoch 2: val_dice_coef improved from 0.00510 to 0.00516, saving model to models/model_weights.hdf5\n",
      "5/5 [==============================] - 119s 26s/step - loss: 0.0195 - dice_coef: 0.0048 - binary_accuracy: 0.9936 - val_loss: 0.0161 - val_dice_coef: 0.0052 - val_binary_accuracy: 0.9952 - lr: 0.0010\n",
      "Epoch 3/15\n",
      "5/5 [==============================] - ETA: 0s - loss: 0.0176 - dice_coef: 0.0066 - binary_accuracy: 0.9930 \n",
      "Epoch 3: val_dice_coef did not improve from 0.00516\n",
      "5/5 [==============================] - 120s 26s/step - loss: 0.0176 - dice_coef: 0.0066 - binary_accuracy: 0.9930 - val_loss: 0.0141 - val_dice_coef: 0.0050 - val_binary_accuracy: 0.9952 - lr: 0.0010\n",
      "Epoch 4/15\n",
      "5/5 [==============================] - ETA: 0s - loss: 0.0147 - dice_coef: 0.0060 - binary_accuracy: 0.9938 \n",
      "Epoch 4: val_dice_coef improved from 0.00516 to 0.00600, saving model to models/model_weights.hdf5\n",
      "5/5 [==============================] - 131s 28s/step - loss: 0.0147 - dice_coef: 0.0060 - binary_accuracy: 0.9938 - val_loss: 0.0123 - val_dice_coef: 0.0060 - val_binary_accuracy: 0.9952 - lr: 0.0010\n",
      "Epoch 5/15\n",
      "5/5 [==============================] - ETA: 0s - loss: 0.0121 - dice_coef: 0.0081 - binary_accuracy: 0.9937 \n",
      "Epoch 5: val_dice_coef improved from 0.00600 to 0.00797, saving model to models/model_weights.hdf5\n",
      "5/5 [==============================] - 119s 26s/step - loss: 0.0121 - dice_coef: 0.0081 - binary_accuracy: 0.9937 - val_loss: 0.0102 - val_dice_coef: 0.0080 - val_binary_accuracy: 0.9952 - lr: 0.0010\n",
      "Epoch 6/15\n",
      "5/5 [==============================] - ETA: 0s - loss: 0.0106 - dice_coef: 0.0105 - binary_accuracy: 0.9935 \n",
      "Epoch 6: val_dice_coef improved from 0.00797 to 0.01242, saving model to models/model_weights.hdf5\n",
      "5/5 [==============================] - 163s 37s/step - loss: 0.0106 - dice_coef: 0.0105 - binary_accuracy: 0.9935 - val_loss: 0.0101 - val_dice_coef: 0.0124 - val_binary_accuracy: 0.9952 - lr: 0.0010\n",
      "Epoch 7/15\n",
      "5/5 [==============================] - ETA: 0s - loss: 0.0079 - dice_coef: 0.0129 - binary_accuracy: 0.9943 \n",
      "Epoch 7: val_dice_coef improved from 0.01242 to 0.01971, saving model to models/model_weights.hdf5\n",
      "5/5 [==============================] - 124s 27s/step - loss: 0.0079 - dice_coef: 0.0129 - binary_accuracy: 0.9943 - val_loss: 0.0100 - val_dice_coef: 0.0197 - val_binary_accuracy: 0.9952 - lr: 0.0010\n",
      "Epoch 8/15\n",
      "5/5 [==============================] - ETA: 0s - loss: 0.0073 - dice_coef: 0.0152 - binary_accuracy: 0.9941 \n",
      "Epoch 8: val_dice_coef improved from 0.01971 to 0.02403, saving model to models/model_weights.hdf5\n",
      "5/5 [==============================] - 161s 36s/step - loss: 0.0073 - dice_coef: 0.0152 - binary_accuracy: 0.9941 - val_loss: 0.0080 - val_dice_coef: 0.0240 - val_binary_accuracy: 0.9952 - lr: 0.0010\n",
      "Epoch 9/15\n",
      "5/5 [==============================] - ETA: 0s - loss: 0.0077 - dice_coef: 0.0165 - binary_accuracy: 0.9938 \n",
      "Epoch 9: val_dice_coef improved from 0.02403 to 0.03030, saving model to models/model_weights.hdf5\n",
      "5/5 [==============================] - 161s 36s/step - loss: 0.0077 - dice_coef: 0.0165 - binary_accuracy: 0.9938 - val_loss: 0.0079 - val_dice_coef: 0.0303 - val_binary_accuracy: 0.9952 - lr: 0.0010\n",
      "Epoch 10/15\n",
      "5/5 [==============================] - ETA: 0s - loss: 0.0086 - dice_coef: 0.0241 - binary_accuracy: 0.9920 \n",
      "Epoch 10: val_dice_coef improved from 0.03030 to 0.03337, saving model to models/model_weights.hdf5\n",
      "5/5 [==============================] - 170s 38s/step - loss: 0.0086 - dice_coef: 0.0241 - binary_accuracy: 0.9920 - val_loss: 0.0076 - val_dice_coef: 0.0334 - val_binary_accuracy: 0.9952 - lr: 0.0010\n",
      "Epoch 11/15\n",
      "5/5 [==============================] - ETA: 0s - loss: 0.0069 - dice_coef: 0.0238 - binary_accuracy: 0.9937 \n",
      "Epoch 11: val_dice_coef did not improve from 0.03337\n",
      "5/5 [==============================] - 124s 27s/step - loss: 0.0069 - dice_coef: 0.0238 - binary_accuracy: 0.9937 - val_loss: 0.0066 - val_dice_coef: 0.0276 - val_binary_accuracy: 0.9952 - lr: 0.0010\n",
      "Epoch 12/15\n",
      "5/5 [==============================] - ETA: 0s - loss: 0.0066 - dice_coef: 0.0207 - binary_accuracy: 0.9945 \n",
      "Epoch 12: val_dice_coef improved from 0.03337 to 0.03470, saving model to models/model_weights.hdf5\n",
      "5/5 [==============================] - 165s 37s/step - loss: 0.0066 - dice_coef: 0.0207 - binary_accuracy: 0.9945 - val_loss: 0.0075 - val_dice_coef: 0.0347 - val_binary_accuracy: 0.9952 - lr: 0.0010\n",
      "Epoch 13/15\n",
      "5/5 [==============================] - ETA: 0s - loss: 0.0058 - dice_coef: 0.0201 - binary_accuracy: 0.9946 \n",
      "Epoch 13: val_dice_coef did not improve from 0.03470\n",
      "5/5 [==============================] - 121s 26s/step - loss: 0.0058 - dice_coef: 0.0201 - binary_accuracy: 0.9946 - val_loss: 0.0067 - val_dice_coef: 0.0318 - val_binary_accuracy: 0.9952 - lr: 0.0010\n",
      "Epoch 14/15\n",
      "5/5 [==============================] - ETA: 0s - loss: 0.0058 - dice_coef: 0.0249 - binary_accuracy: 0.9939 \n",
      "Epoch 14: val_dice_coef improved from 0.03470 to 0.03655, saving model to models/model_weights.hdf5\n",
      "5/5 [==============================] - 164s 37s/step - loss: 0.0058 - dice_coef: 0.0249 - binary_accuracy: 0.9939 - val_loss: 0.0061 - val_dice_coef: 0.0366 - val_binary_accuracy: 0.9952 - lr: 0.0010\n",
      "Epoch 15/15\n",
      "5/5 [==============================] - ETA: 0s - loss: 0.0055 - dice_coef: 0.0299 - binary_accuracy: 0.9937 \n",
      "Epoch 15: val_dice_coef improved from 0.03655 to 0.04557, saving model to models/model_weights.hdf5\n",
      "5/5 [==============================] - 120s 26s/step - loss: 0.0055 - dice_coef: 0.0299 - binary_accuracy: 0.9937 - val_loss: 0.0061 - val_dice_coef: 0.0456 - val_binary_accuracy: 0.9952 - lr: 0.0010\n"
     ]
    },
    {
     "data": {
      "text/plain": [
       "<keras.src.callbacks.History at 0x7a2d35154910>"
      ]
     },
     "execution_count": 72,
     "metadata": {},
     "output_type": "execute_result"
    }
   ],
   "source": [
    "# Compile the model\n",
    "model.compile(optimizer=Adam(learning_rate=1e-3), loss=Loss, metrics=[dice_coef, 'binary_accuracy'])\n",
    "\n",
    "step_count = min(5, train_df.shape[0]//48)\n",
    "aug_gen = create_aug_gen(make_image_gen(train_df))\n",
    "\n",
    "model.fit(\n",
    "    aug_gen, \n",
    "    steps_per_epoch=step_count, \n",
    "    epochs=15, \n",
    "    validation_data=(valid_x, valid_y), \n",
    "    callbacks=callbacks_list, \n",
    "    workers=1 \n",
    ")"
   ]
  },
  {
   "cell_type": "code",
   "execution_count": 73,
   "id": "KHT-EdiopODR",
   "metadata": {
    "colab": {
     "base_uri": "https://localhost:8080/"
    },
    "id": "KHT-EdiopODR",
    "outputId": "352277f4-2121-46fa-fd89-4935969494a7"
   },
   "outputs": [
    {
     "name": "stderr",
     "output_type": "stream",
     "text": [
      "/usr/local/lib/python3.10/dist-packages/keras/src/engine/training.py:3079: UserWarning: You are saving your model as an HDF5 file via `model.save()`. This file format is considered legacy. We recommend using instead the native Keras format, e.g. `model.save('my_model.keras')`.\n",
      "  saving_api.save_model(\n"
     ]
    }
   ],
   "source": [
    "model_v2 = model\n",
    "model_v2.save('models/model_full.h5')"
   ]
  }
 ],
 "metadata": {
  "colab": {
   "provenance": []
  },
  "kernelspec": {
   "display_name": "Python 3 (ipykernel)",
   "language": "python",
   "name": "python3"
  },
  "language_info": {
   "codemirror_mode": {
    "name": "ipython",
    "version": 3
   },
   "file_extension": ".py",
   "mimetype": "text/x-python",
   "name": "python",
   "nbconvert_exporter": "python",
   "pygments_lexer": "ipython3",
   "version": "3.10.12"
  }
 },
 "nbformat": 4,
 "nbformat_minor": 5
}
